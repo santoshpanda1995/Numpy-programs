{
  "cells": [
    {
      "cell_type": "markdown",
      "metadata": {
        "id": "Uimvct6-lLel"
      },
      "source": [
        "_____\n",
        "**Write a program to create an array [10, 5, 7, 20, 15, -9, 33], print it, Find the maximum and minimum Value of the array**"
      ]
    },
    {
      "cell_type": "code",
      "execution_count": null,
      "metadata": {
        "colab": {
          "base_uri": "https://localhost:8080/"
        },
        "id": "civStCDVlLem",
        "outputId": "44d0e2ce-af9f-4133-ef84-42604bde2848"
      },
      "outputs": [
        {
          "output_type": "stream",
          "name": "stdout",
          "text": [
            "Array: [10  5  7 20 15 -9 33]\n",
            "Maximum value: 33\n",
            "Minimum value: -9\n"
          ]
        }
      ],
      "source": [
        "import numpy as np\n",
        "\n",
        "# Create the array\n",
        "arr = np.array([10, 5, 7, 20, 15, -9, 33])\n",
        "\n",
        "# Print the array\n",
        "print(\"Array:\", arr)\n",
        "\n",
        "# Find the maximum and minimum values\n",
        "max_value = np.max(arr)\n",
        "min_value = np.min(arr)\n",
        "\n",
        "# Print the maximum and minimum values\n",
        "print(\"Maximum value:\", max_value)\n",
        "print(\"Minimum value:\", min_value)"
      ]
    },
    {
      "cell_type": "markdown",
      "metadata": {
        "id": "XQUZUSw8lLem"
      },
      "source": [
        "______\n",
        "**Write a program to accept an array of elements and find the maximum without using max function**"
      ]
    },
    {
      "cell_type": "code",
      "execution_count": null,
      "metadata": {
        "colab": {
          "base_uri": "https://localhost:8080/"
        },
        "id": "NYxu3iwDlLen",
        "outputId": "727c91b8-ea79-40c3-8450-393d7e2e294a"
      },
      "outputs": [
        {
          "output_type": "stream",
          "name": "stdout",
          "text": [
            "Enter elements of the array separated by spaces: 1 2 5 3 23 56 7\n",
            "Maximum value: 56\n"
          ]
        }
      ],
      "source": [
        "import numpy as np\n",
        "\n",
        "def find_max(arr):\n",
        "    if len(arr) == 0:\n",
        "        return None\n",
        "\n",
        "    max_value = arr[0]  # Assume the first element is the maximum\n",
        "\n",
        "    for element in arr[1:]:\n",
        "        if element > max_value:\n",
        "            max_value = element\n",
        "\n",
        "    return max_value\n",
        "\n",
        "# Accepting array of elements from the user\n",
        "arr = np.array(input(\"Enter elements of the array separated by spaces: \").split(), dtype=int)\n",
        "\n",
        "# Finding the maximum value\n",
        "max_value = find_max(arr)\n",
        "\n",
        "if max_value is not None:\n",
        "    print(\"Maximum value:\", max_value)\n",
        "else:\n",
        "    print(\"Array is empty\")"
      ]
    },
    {
      "cell_type": "markdown",
      "metadata": {
        "id": "V7tubanIlLen"
      },
      "source": [
        "___\n",
        "**Write a program to accept two matrices [[1,2],[3,4]],   [[2,4],[6,8]]and find the sum and subtraction of two matrices**"
      ]
    },
    {
      "cell_type": "code",
      "execution_count": null,
      "metadata": {
        "colab": {
          "base_uri": "https://localhost:8080/"
        },
        "id": "vixJ3qiSlLen",
        "outputId": "9b47b227-d9fd-4b83-9ea1-a6ceb005e264"
      },
      "outputs": [
        {
          "output_type": "stream",
          "name": "stdout",
          "text": [
            "Sum of the matrices:\n",
            "[[ 3  6]\n",
            " [ 9 12]]\n",
            "\n",
            "Subtraction of the matrices:\n",
            "[[-1 -2]\n",
            " [-3 -4]]\n"
          ]
        }
      ],
      "source": [
        "import numpy as np\n",
        "\n",
        "# Define the matrices\n",
        "matrix1 = np.array([[1, 2], [3, 4]])\n",
        "matrix2 = np.array([[2, 4], [6, 8]])\n",
        "\n",
        "# Find the sum of matrices\n",
        "sum_result = matrix1 + matrix2\n",
        "print(\"Sum of the matrices:\")\n",
        "print(sum_result)\n",
        "\n",
        "# Find the subtraction of matrices\n",
        "subtraction_result = matrix1 - matrix2\n",
        "print(\"\\nSubtraction of the matrices:\")\n",
        "print(subtraction_result)\n"
      ]
    },
    {
      "cell_type": "markdown",
      "metadata": {
        "id": "5pvIF3iVlLen"
      },
      "source": [
        "___\n",
        "**Write a program to generate a ranodom matrix of size 5 X 6. Add another row containing random elements to it. Find the sum of each row.**"
      ]
    },
    {
      "cell_type": "code",
      "execution_count": null,
      "metadata": {
        "colab": {
          "base_uri": "https://localhost:8080/"
        },
        "id": "gqlkPKmmlLen",
        "outputId": "2ec2598e-4c10-462b-83b6-d2bc6169de23"
      },
      "outputs": [
        {
          "output_type": "stream",
          "name": "stdout",
          "text": [
            "Random Matrix:\n",
            "[[0.00462922 0.59256579 0.79116505 0.10772963 0.89812273 0.75566439]\n",
            " [0.82476347 0.76788912 0.12009982 0.69803707 0.93452727 0.46269139]\n",
            " [0.50062732 0.64076956 0.87789721 0.73250293 0.58820594 0.46491282]\n",
            " [0.68015672 0.9341167  0.81987803 0.8657766  0.11426552 0.24360998]\n",
            " [0.90195451 0.19173367 0.08944803 0.33335856 0.90809886 0.25166881]]\n",
            "\n",
            "Matrix with added row:\n",
            "[[0.00462922 0.59256579 0.79116505 0.10772963 0.89812273 0.75566439]\n",
            " [0.82476347 0.76788912 0.12009982 0.69803707 0.93452727 0.46269139]\n",
            " [0.50062732 0.64076956 0.87789721 0.73250293 0.58820594 0.46491282]\n",
            " [0.68015672 0.9341167  0.81987803 0.8657766  0.11426552 0.24360998]\n",
            " [0.90195451 0.19173367 0.08944803 0.33335856 0.90809886 0.25166881]\n",
            " [0.23062403 0.70994096 0.78761183 0.81775131 0.8359904  0.78778329]]\n",
            "\n",
            "Sum of each row:\n",
            "[3.14987682 3.80800815 3.80491578 3.65780354 2.67626245 4.16970183]\n"
          ]
        }
      ],
      "source": [
        "import numpy as np\n",
        "\n",
        "# Generate a random matrix of size 5x6\n",
        "random_matrix = np.random.rand(5, 6)\n",
        "print(\"Random Matrix:\")\n",
        "print(random_matrix)\n",
        "\n",
        "# Add another row with random elements\n",
        "new_row = np.random.rand(1, 6)\n",
        "random_matrix = np.vstack([random_matrix, new_row])\n",
        "print(\"\\nMatrix with added row:\")\n",
        "print(random_matrix)\n",
        "\n",
        "# Find the sum of each row\n",
        "row_sums = np.sum(random_matrix, axis=1)\n",
        "print(\"\\nSum of each row:\")\n",
        "print(row_sums)"
      ]
    },
    {
      "cell_type": "markdown",
      "metadata": {
        "id": "2UZmkG_3lLen"
      },
      "source": [
        "___\n",
        "**Write a program to generate a ranodm integer matrix of size 5 X 6. Add another column containing random integers to it. Compute the sine of each element and print it**"
      ]
    },
    {
      "cell_type": "code",
      "execution_count": null,
      "metadata": {
        "colab": {
          "base_uri": "https://localhost:8080/"
        },
        "id": "Lr9dMNRflLeo",
        "outputId": "93866dff-dec0-46a4-c8f1-0b7c3c6c8651"
      },
      "outputs": [
        {
          "output_type": "stream",
          "name": "stdout",
          "text": [
            "Random Matrix:\n",
            "[[9 3 9 4 7 7]\n",
            " [1 6 5 4 5 4]\n",
            " [6 8 4 5 3 7]\n",
            " [7 6 7 9 1 7]\n",
            " [0 1 5 6 9 1]]\n",
            "\n",
            "Matrix with added column:\n",
            "[[9 3 9 4 7 7 5]\n",
            " [1 6 5 4 5 4 9]\n",
            " [6 8 4 5 3 7 0]\n",
            " [7 6 7 9 1 7 6]\n",
            " [0 1 5 6 9 1 8]]\n",
            "\n",
            "Sine of each element:\n",
            "[[ 0.41211849  0.14112001  0.41211849 -0.7568025   0.6569866   0.6569866\n",
            "  -0.95892427]\n",
            " [ 0.84147098 -0.2794155  -0.95892427 -0.7568025  -0.95892427 -0.7568025\n",
            "   0.41211849]\n",
            " [-0.2794155   0.98935825 -0.7568025  -0.95892427  0.14112001  0.6569866\n",
            "   0.        ]\n",
            " [ 0.6569866  -0.2794155   0.6569866   0.41211849  0.84147098  0.6569866\n",
            "  -0.2794155 ]\n",
            " [ 0.          0.84147098 -0.95892427 -0.2794155   0.41211849  0.84147098\n",
            "   0.98935825]]\n"
          ]
        }
      ],
      "source": [
        "import numpy as np\n",
        "\n",
        "# Generate a random matrix of size 5x6\n",
        "random_matrix = np.random.randint(0, 10, size=(5, 6))\n",
        "print(\"Random Matrix:\")\n",
        "print(random_matrix)\n",
        "\n",
        "# Add another column with random elements\n",
        "new_column = np.random.randint(0, 10, size=(5, 1))\n",
        "random_matrix = np.hstack([random_matrix, new_column])\n",
        "print(\"\\nMatrix with added column:\")\n",
        "print(random_matrix)\n",
        "\n",
        "# Compute the sine of each element\n",
        "sin_matrix = np.sin(random_matrix)\n",
        "print(\"\\nSine of each element:\")\n",
        "print(sin_matrix)"
      ]
    },
    {
      "cell_type": "markdown",
      "metadata": {
        "id": "KMOzxeRVlLeo"
      },
      "source": [
        "___\n",
        "**Write a program to generate a ranodm matrix of size 5 X 6. Consider the 3rd and 4th row; and 2nd, 3rd and 4th column and print the resultant matrix using slicing**"
      ]
    },
    {
      "cell_type": "code",
      "execution_count": null,
      "metadata": {
        "colab": {
          "base_uri": "https://localhost:8080/"
        },
        "id": "doalvRnPlLeo",
        "outputId": "5a2fad28-fda5-4ad2-c06a-ac28cfbde7a0"
      },
      "outputs": [
        {
          "output_type": "stream",
          "name": "stdout",
          "text": [
            "Random Matrix:\n",
            "[[8 5 8 3 6 9]\n",
            " [9 5 9 3 0 3]\n",
            " [6 7 8 1 4 3]\n",
            " [0 0 7 6 3 7]\n",
            " [6 7 6 8 8 5]]\n",
            "\n",
            "Resultant Matrix:\n",
            "[[7 8 1]\n",
            " [0 7 6]]\n"
          ]
        }
      ],
      "source": [
        "import numpy as np\n",
        "\n",
        "# Generate a random matrix of size 5x6\n",
        "random_matrix = np.random.randint(0, 10, size=(5, 6))\n",
        "print(\"Random Matrix:\")\n",
        "print(random_matrix)\n",
        "\n",
        "# Extract the specified rows and columns using slicing\n",
        "resultant_matrix = random_matrix[2:4, 1:4]\n",
        "print(\"\\nResultant Matrix:\")\n",
        "print(resultant_matrix)"
      ]
    },
    {
      "cell_type": "markdown",
      "metadata": {
        "id": "32nmjHKslLeo"
      },
      "source": [
        "### Great Job!"
      ]
    }
  ],
  "metadata": {
    "kernelspec": {
      "display_name": "Python 3 (ipykernel)",
      "language": "python",
      "name": "python3"
    },
    "language_info": {
      "codemirror_mode": {
        "name": "ipython",
        "version": 3
      },
      "file_extension": ".py",
      "mimetype": "text/x-python",
      "name": "python",
      "nbconvert_exporter": "python",
      "pygments_lexer": "ipython3",
      "version": "3.11.7"
    },
    "colab": {
      "provenance": []
    }
  },
  "nbformat": 4,
  "nbformat_minor": 0
}